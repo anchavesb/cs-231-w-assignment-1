{
 "cells": [
  {
   "cell_type": "markdown",
   "metadata": {},
   "source": [
    "# Softmax exercise\n",
    "\n",
    "*Complete and hand in this completed worksheet (including its outputs and any supporting code outside of the worksheet) with your assignment submission. For more details see the [assignments page](http://vision.stanford.edu/teaching/cs231n/assignments.html) on the course website.*\n",
    "\n",
    "This exercise is analogous to the SVM exercise. You will:\n",
    "\n",
    "- implement a fully-vectorized **loss function** for the Softmax classifier\n",
    "- implement the fully-vectorized expression for its **analytic gradient**\n",
    "- **check your implementation** with numerical gradient\n",
    "- use a validation set to **tune the learning rate and regularization** strength\n",
    "- **optimize** the loss function with **SGD**\n",
    "- **visualize** the final learned weights\n"
   ]
  },
  {
   "cell_type": "code",
   "execution_count": 38,
   "metadata": {
    "collapsed": false
   },
   "outputs": [
    {
     "name": "stdout",
     "output_type": "stream",
     "text": [
      "The autoreload extension is already loaded. To reload it, use:\n",
      "  %reload_ext autoreload\n"
     ]
    }
   ],
   "source": [
    "import random\n",
    "import numpy as np\n",
    "from cs231n.data_utils import load_CIFAR10\n",
    "import matplotlib.pyplot as plt\n",
    "%matplotlib inline\n",
    "plt.rcParams['figure.figsize'] = (10.0, 8.0) # set default size of plots\n",
    "plt.rcParams['image.interpolation'] = 'nearest'\n",
    "plt.rcParams['image.cmap'] = 'gray'\n",
    "\n",
    "# for auto-reloading extenrnal modules\n",
    "# see http://stackoverflow.com/questions/1907993/autoreload-of-modules-in-ipython\n",
    "%load_ext autoreload\n",
    "%autoreload 2"
   ]
  },
  {
   "cell_type": "code",
   "execution_count": 39,
   "metadata": {
    "collapsed": false
   },
   "outputs": [
    {
     "name": "stdout",
     "output_type": "stream",
     "text": [
      "Train data shape:  (49000, 3073)\n",
      "Train labels shape:  (49000,)\n",
      "Validation data shape:  (1000, 3073)\n",
      "Validation labels shape:  (1000,)\n",
      "Test data shape:  (1000, 3073)\n",
      "Test labels shape:  (1000,)\n",
      "dev data shape:  (500, 3073)\n",
      "dev labels shape:  (500,)\n"
     ]
    }
   ],
   "source": [
    "def get_CIFAR10_data(num_training=49000, num_validation=1000, num_test=1000, num_dev=500):\n",
    "  \"\"\"\n",
    "  Load the CIFAR-10 dataset from disk and perform preprocessing to prepare\n",
    "  it for the linear classifier. These are the same steps as we used for the\n",
    "  SVM, but condensed to a single function.  \n",
    "  \"\"\"\n",
    "  # Load the raw CIFAR-10 data\n",
    "  cifar10_dir = 'cs231n/datasets/cifar-10-batches-py'\n",
    "  X_train, y_train, X_test, y_test = load_CIFAR10(cifar10_dir)\n",
    "  \n",
    "  # subsample the data\n",
    "  mask = range(num_training, num_training + num_validation)\n",
    "  X_val = X_train[mask]\n",
    "  y_val = y_train[mask]\n",
    "  mask = range(num_training)\n",
    "  X_train = X_train[mask]\n",
    "  y_train = y_train[mask]\n",
    "  mask = range(num_test)\n",
    "  X_test = X_test[mask]\n",
    "  y_test = y_test[mask]\n",
    "  mask = np.random.choice(num_training, num_dev, replace=False)\n",
    "  X_dev = X_train[mask]\n",
    "  y_dev = y_train[mask]\n",
    "  \n",
    "  # Preprocessing: reshape the image data into rows\n",
    "  X_train = np.reshape(X_train, (X_train.shape[0], -1))\n",
    "  X_val = np.reshape(X_val, (X_val.shape[0], -1))\n",
    "  X_test = np.reshape(X_test, (X_test.shape[0], -1))\n",
    "  X_dev = np.reshape(X_dev, (X_dev.shape[0], -1))\n",
    "  \n",
    "  # Normalize the data: subtract the mean image\n",
    "  mean_image = np.mean(X_train, axis = 0)\n",
    "  X_train -= mean_image\n",
    "  X_val -= mean_image\n",
    "  X_test -= mean_image\n",
    "  X_dev -= mean_image\n",
    "  \n",
    "  # add bias dimension and transform into columns\n",
    "  X_train = np.hstack([X_train, np.ones((X_train.shape[0], 1))])\n",
    "  X_val = np.hstack([X_val, np.ones((X_val.shape[0], 1))])\n",
    "  X_test = np.hstack([X_test, np.ones((X_test.shape[0], 1))])\n",
    "  X_dev = np.hstack([X_dev, np.ones((X_dev.shape[0], 1))])\n",
    "  \n",
    "  return X_train, y_train, X_val, y_val, X_test, y_test, X_dev, y_dev\n",
    "\n",
    "\n",
    "# Invoke the above function to get our data.\n",
    "X_train, y_train, X_val, y_val, X_test, y_test, X_dev, y_dev = get_CIFAR10_data()\n",
    "print 'Train data shape: ', X_train.shape\n",
    "print 'Train labels shape: ', y_train.shape\n",
    "print 'Validation data shape: ', X_val.shape\n",
    "print 'Validation labels shape: ', y_val.shape\n",
    "print 'Test data shape: ', X_test.shape\n",
    "print 'Test labels shape: ', y_test.shape\n",
    "print 'dev data shape: ', X_dev.shape\n",
    "print 'dev labels shape: ', y_dev.shape"
   ]
  },
  {
   "cell_type": "markdown",
   "metadata": {},
   "source": [
    "## Softmax Classifier\n",
    "\n",
    "Your code for this section will all be written inside **cs231n/classifiers/softmax.py**. \n"
   ]
  },
  {
   "cell_type": "code",
   "execution_count": 40,
   "metadata": {
    "collapsed": false
   },
   "outputs": [
    {
     "name": "stdout",
     "output_type": "stream",
     "text": [
      "loss: 2.299994\n",
      "sanity check: 2.302585\n"
     ]
    }
   ],
   "source": [
    "# First implement the naive softmax loss function with nested loops.\n",
    "# Open the file cs231n/classifiers/softmax.py and implement the\n",
    "# softmax_loss_naive function.\n",
    "\n",
    "from cs231n.classifiers.softmax import softmax_loss_naive\n",
    "import time\n",
    "\n",
    "# Generate a random softmax weight matrix and use it to compute the loss.\n",
    "W = np.random.randn(3073, 10) * 0.0001\n",
    "loss, grad = softmax_loss_naive(W, X_dev, y_dev, 0.0)\n",
    "\n",
    "# As a rough sanity check, our loss should be something close to -log(0.1).\n",
    "print 'loss: %f' % loss\n",
    "print 'sanity check: %f' % (-np.log(0.1))"
   ]
  },
  {
   "cell_type": "code",
   "execution_count": 41,
   "metadata": {
    "collapsed": false
   },
   "outputs": [
    {
     "name": "stdout",
     "output_type": "stream",
     "text": [
      "numerical: 0.347101 analytic: 0.347101, relative error: 1.348323e-08\n",
      "numerical: 3.119479 analytic: 3.119479, relative error: 2.123107e-09\n",
      "numerical: 2.435552 analytic: 2.435552, relative error: 6.384602e-09\n",
      "numerical: -1.787861 analytic: -1.787861, relative error: 1.842954e-08\n",
      "numerical: 1.512740 analytic: 1.512740, relative error: 7.901792e-10\n",
      "numerical: 1.302457 analytic: 1.302457, relative error: 1.278220e-08\n",
      "numerical: 1.525774 analytic: 1.525774, relative error: 1.367129e-08\n",
      "numerical: -0.088821 analytic: -0.088821, relative error: 6.440188e-07\n",
      "numerical: 3.172784 analytic: 3.172784, relative error: 1.346233e-08\n",
      "numerical: -0.390089 analytic: -0.390089, relative error: 7.705457e-08\n",
      "numerical: 2.717937 analytic: 2.717937, relative error: 1.508721e-08\n",
      "numerical: -1.344308 analytic: -1.344308, relative error: 3.978867e-09\n",
      "numerical: -1.826800 analytic: -1.826800, relative error: 6.414427e-09\n",
      "numerical: 1.571595 analytic: 1.571595, relative error: 4.954712e-09\n",
      "numerical: 1.818914 analytic: 1.818914, relative error: 3.620995e-08\n",
      "numerical: -0.909123 analytic: -0.909124, relative error: 9.775087e-08\n",
      "numerical: 0.409044 analytic: 0.409044, relative error: 5.253108e-08\n",
      "numerical: 1.287987 analytic: 1.287987, relative error: 2.235606e-08\n",
      "numerical: -2.130581 analytic: -2.130581, relative error: 7.261257e-09\n",
      "numerical: 1.508265 analytic: 1.508265, relative error: 4.747250e-08\n"
     ]
    }
   ],
   "source": [
    "# Complete the implementation of softmax_loss_naive and implement a (naive)\n",
    "# version of the gradient that uses nested loops.\n",
    "loss, grad = softmax_loss_naive(W, X_dev, y_dev, 0.0)\n",
    "\n",
    "# As we did for the SVM, use numeric gradient checking as a debugging tool.\n",
    "# The numeric gradient should be close to the analytic gradient.\n",
    "from cs231n.gradient_check import grad_check_sparse\n",
    "f = lambda w: softmax_loss_naive(w, X_dev, y_dev, 0.0)[0]\n",
    "grad_numerical = grad_check_sparse(f, W, grad, 10)\n",
    "\n",
    "# similar to SVM case, do another gradient check with regularization\n",
    "loss, grad = softmax_loss_naive(W, X_dev, y_dev, 1e2)\n",
    "f = lambda w: softmax_loss_naive(w, X_dev, y_dev, 1e2)[0]\n",
    "grad_numerical = grad_check_sparse(f, W, grad, 10)"
   ]
  },
  {
   "cell_type": "markdown",
   "metadata": {},
   "source": [
    "## Inline Question 1:\n",
    "Why do we expect our loss to be close to -log(0.1)? Explain briefly.**\n",
    "\n",
    "Initial matrix W will have small numbers close to 0, with Loss equal to log (e^0/sum(e^0)) which is log(1/n), n number of classes (10), log(0.1)"
   ]
  },
  {
   "cell_type": "code",
   "execution_count": 42,
   "metadata": {
    "collapsed": false
   },
   "outputs": [
    {
     "name": "stdout",
     "output_type": "stream",
     "text": [
      "naive loss: 2.299994e+00 computed in 0.111142s\n",
      "(500, 10)\n",
      "vectorized loss: 2.299994e+00 computed in 0.042904s\n",
      "Loss difference: 0.000000\n",
      "Gradient difference: 0.000000\n"
     ]
    }
   ],
   "source": [
    "# Now that we have a naive implementation of the softmax loss function and its gradient,\n",
    "# implement a vectorized version in softmax_loss_vectorized.\n",
    "# The two versions should compute the same results, but the vectorized version should be\n",
    "# much faster.\n",
    "tic = time.time()\n",
    "loss_naive, grad_naive = softmax_loss_naive(W, X_dev, y_dev, 0.00001)\n",
    "toc = time.time()\n",
    "print 'naive loss: %e computed in %fs' % (loss_naive, toc - tic)\n",
    "\n",
    "from cs231n.classifiers.softmax import softmax_loss_vectorized\n",
    "tic = time.time()\n",
    "loss_vectorized, grad_vectorized = softmax_loss_vectorized(W, X_dev, y_dev, 0.00001)\n",
    "toc = time.time()\n",
    "print 'vectorized loss: %e computed in %fs' % (loss_vectorized, toc - tic)\n",
    "\n",
    "# As we did for the SVM, we use the Frobenius norm to compare the two versions\n",
    "# of the gradient.\n",
    "grad_difference = np.linalg.norm(grad_naive - grad_vectorized, ord='fro')\n",
    "print 'Loss difference: %f' % np.abs(loss_naive - loss_vectorized)\n",
    "print 'Gradient difference: %f' % grad_difference"
   ]
  },
  {
   "cell_type": "code",
   "execution_count": 52,
   "metadata": {
    "collapsed": false
   },
   "outputs": [
    {
     "name": "stdout",
     "output_type": "stream",
     "text": [
      "(5e-07, 10000.0)\n",
      "iteration 0 / 1000: loss 158.295545\n",
      "iteration 100 / 1000: loss 58.076074\n",
      "iteration 200 / 1000: loss 22.305935\n",
      "iteration 300 / 1000: loss 9.357669\n",
      "iteration 400 / 1000: loss 4.618818\n",
      "iteration 500 / 1000: loss 2.860041\n",
      "iteration 600 / 1000: loss 2.380717\n",
      "iteration 700 / 1000: loss 2.075606\n",
      "iteration 800 / 1000: loss 2.007331\n",
      "iteration 900 / 1000: loss 1.979900\n",
      "(5e-07, 50000.0)\n",
      "iteration 0 / 1000: loss 774.278896\n",
      "iteration 100 / 1000: loss 6.901991\n",
      "iteration 200 / 1000: loss 2.155336\n",
      "iteration 300 / 1000: loss 2.053556\n",
      "iteration 400 / 1000: loss 2.038741\n",
      "iteration 500 / 1000: loss 2.047847\n",
      "iteration 600 / 1000: loss 2.129569\n",
      "iteration 700 / 1000: loss 2.103654\n",
      "iteration 800 / 1000: loss 2.133138\n",
      "iteration 900 / 1000: loss 2.113570\n",
      "(5e-07, 100000.0)\n",
      "iteration 0 / 1000: loss 1539.296842\n",
      "iteration 100 / 1000: loss 2.220107\n",
      "iteration 200 / 1000: loss 2.110068\n",
      "iteration 300 / 1000: loss 2.156155\n",
      "iteration 400 / 1000: loss 2.152704\n",
      "iteration 500 / 1000: loss 2.151337\n",
      "iteration 600 / 1000: loss 2.109096\n",
      "iteration 700 / 1000: loss 2.154756\n",
      "iteration 800 / 1000: loss 2.161223\n",
      "iteration 900 / 1000: loss 2.126785\n",
      "(1e-07, 10000.0)\n",
      "iteration 0 / 1000: loss 157.397737\n",
      "iteration 100 / 1000: loss 127.715006\n",
      "iteration 200 / 1000: loss 104.589607\n",
      "iteration 300 / 1000: loss 85.486753\n",
      "iteration 400 / 1000: loss 70.105509\n",
      "iteration 500 / 1000: loss 57.847518\n",
      "iteration 600 / 1000: loss 47.615275\n",
      "iteration 700 / 1000: loss 39.240819\n",
      "iteration 800 / 1000: loss 32.386991\n",
      "iteration 900 / 1000: loss 26.842135\n",
      "(1e-07, 50000.0)\n",
      "iteration 0 / 1000: loss 771.653506\n",
      "iteration 100 / 1000: loss 283.242436\n",
      "iteration 200 / 1000: loss 105.040551\n",
      "iteration 300 / 1000: loss 39.725590\n",
      "iteration 400 / 1000: loss 15.908705\n",
      "iteration 500 / 1000: loss 7.176485\n",
      "iteration 600 / 1000: loss 3.900274\n",
      "iteration 700 / 1000: loss 2.765633\n",
      "iteration 800 / 1000: loss 2.343293\n",
      "iteration 900 / 1000: loss 2.181131\n",
      "(1e-07, 100000.0)\n",
      "iteration 0 / 1000: loss 1557.429568\n",
      "iteration 100 / 1000: loss 209.669699\n",
      "iteration 200 / 1000: loss 29.902257\n",
      "iteration 300 / 1000: loss 5.888691\n",
      "iteration 400 / 1000: loss 2.673163\n",
      "iteration 500 / 1000: loss 2.153482\n",
      "iteration 600 / 1000: loss 2.152939\n",
      "iteration 700 / 1000: loss 2.125837\n",
      "iteration 800 / 1000: loss 2.136155\n",
      "iteration 900 / 1000: loss 2.161108\n",
      "(5e-07, 10000.0)\n",
      "iteration 0 / 1000: loss 159.950134\n",
      "iteration 100 / 1000: loss 58.446845\n",
      "iteration 200 / 1000: loss 22.602497\n",
      "iteration 300 / 1000: loss 9.470246\n",
      "iteration 400 / 1000: loss 4.610160\n",
      "iteration 500 / 1000: loss 2.920119\n",
      "iteration 600 / 1000: loss 2.411662\n",
      "iteration 700 / 1000: loss 2.109090\n",
      "iteration 800 / 1000: loss 2.007143\n",
      "iteration 900 / 1000: loss 2.025125\n",
      "(5e-07, 50000.0)\n",
      "iteration 0 / 1000: loss 781.286166\n",
      "iteration 100 / 1000: loss 6.975801\n",
      "iteration 200 / 1000: loss 2.116442\n",
      "iteration 300 / 1000: loss 2.032094\n",
      "iteration 400 / 1000: loss 2.078749\n",
      "iteration 500 / 1000: loss 2.069027\n",
      "iteration 600 / 1000: loss 2.107517\n",
      "iteration 700 / 1000: loss 2.129683\n",
      "iteration 800 / 1000: loss 2.077877\n",
      "iteration 900 / 1000: loss 2.104343\n",
      "(5e-07, 100000.0)\n",
      "iteration 0 / 1000: loss 1543.149717\n",
      "iteration 100 / 1000: loss 2.163756\n",
      "iteration 200 / 1000: loss 2.102471\n",
      "iteration 300 / 1000: loss 2.069543\n",
      "iteration 400 / 1000: loss 2.180518\n",
      "iteration 500 / 1000: loss 2.145790\n",
      "iteration 600 / 1000: loss 2.142201\n",
      "iteration 700 / 1000: loss 2.162421\n",
      "iteration 800 / 1000: loss 2.202287\n",
      "iteration 900 / 1000: loss 2.142122\n",
      "lr 1.000000e-07 reg 1.000000e+04 train accuracy: 0.285102 val accuracy: 0.311000\n",
      "lr 1.000000e-07 reg 5.000000e+04 train accuracy: 0.325857 val accuracy: 0.340000\n",
      "lr 1.000000e-07 reg 1.000000e+05 train accuracy: 0.312122 val accuracy: 0.331000\n",
      "lr 5.000000e-07 reg 1.000000e+04 train accuracy: 0.369224 val accuracy: 0.376000\n",
      "lr 5.000000e-07 reg 5.000000e+04 train accuracy: 0.314510 val accuracy: 0.329000\n",
      "lr 5.000000e-07 reg 1.000000e+05 train accuracy: 0.308714 val accuracy: 0.327000\n",
      "best validation accuracy achieved during cross-validation: 0.376000\n"
     ]
    }
   ],
   "source": [
    "# Use the validation set to tune hyperparameters (regularization strength and\n",
    "# learning rate). You should experiment with different ranges for the learning\n",
    "# rates and regularization strengths; if you are careful you should be able to\n",
    "# get a classification accuracy of over 0.35 on the validation set.\n",
    "from cs231n.classifiers import Softmax\n",
    "results = {}\n",
    "best_val = -1\n",
    "best_softmax = None\n",
    "learning_rates = [5e-7, 1e-7, 5e-7]\n",
    "regularization_strengths = [1e4, 5e4, 1e5]\n",
    "\n",
    "################################################################################\n",
    "# TODO:                                                                        #\n",
    "# Use the validation set to set the learning rate and regularization strength. #\n",
    "# This should be identical to the validation that you did for the SVM; save    #\n",
    "# the best trained softmax classifer in best_softmax.                          #\n",
    "################################################################################\n",
    "for learning_rate in learning_rates:\n",
    "    for regularization in regularization_strengths:\n",
    "        soft = Softmax()\n",
    "        print (learning_rate,regularization)\n",
    "        loss_hist = soft.train(X_train, y_train, learning_rate=learning_rate, reg=regularization,\n",
    "                      num_iters=1000, verbose=True)\n",
    "        y_train_pred = soft.predict(X_train)\n",
    "        accuracy_train = np.mean(y_train == y_train_pred)\n",
    "        y_val_pred = soft.predict(X_val)\n",
    "        accuracy_val = np.mean(y_val == y_val_pred)\n",
    "        if accuracy_val > best_val:\n",
    "            best_val = accuracy_val\n",
    "            best_softmax = soft\n",
    "        results[(learning_rate,regularization)] = (accuracy_train, accuracy_val)\n",
    "################################################################################\n",
    "#                              END OF YOUR CODE                                #\n",
    "################################################################################\n",
    "    \n",
    "# Print out results.\n",
    "for lr, reg in sorted(results):\n",
    "    train_accuracy, val_accuracy = results[(lr, reg)]\n",
    "    print 'lr %e reg %e train accuracy: %f val accuracy: %f' % (\n",
    "                lr, reg, train_accuracy, val_accuracy)\n",
    "    \n",
    "print 'best validation accuracy achieved during cross-validation: %f' % best_val"
   ]
  },
  {
   "cell_type": "code",
   "execution_count": 53,
   "metadata": {
    "collapsed": false
   },
   "outputs": [
    {
     "name": "stdout",
     "output_type": "stream",
     "text": [
      "softmax on raw pixels final test set accuracy: 0.376000\n"
     ]
    }
   ],
   "source": [
    "# evaluate on test set\n",
    "# Evaluate the best softmax on test set\n",
    "y_test_pred = best_softmax.predict(X_test)\n",
    "test_accuracy = np.mean(y_test == y_test_pred)\n",
    "print 'softmax on raw pixels final test set accuracy: %f' % (test_accuracy, )"
   ]
  },
  {
   "cell_type": "code",
   "execution_count": 54,
   "metadata": {
    "collapsed": false
   },
   "outputs": [
    {
     "data": {
      "image/png": "[encoded data removed]",
      "text/plain": [
       "<matplotlib.figure.Figure at 0x117274350>"
      ]
     },
     "metadata": {},
     "output_type": "display_data"
    }
   ],
   "source": [
    "# Visualize the learned weights for each class\n",
    "w = best_softmax.W[:-1,:] # strip out the bias\n",
    "w = w.reshape(32, 32, 3, 10)\n",
    "\n",
    "w_min, w_max = np.min(w), np.max(w)\n",
    "\n",
    "classes = ['plane', 'car', 'bird', 'cat', 'deer', 'dog', 'frog', 'horse', 'ship', 'truck']\n",
    "for i in xrange(10):\n",
    "  plt.subplot(2, 5, i + 1)\n",
    "  \n",
    "  # Rescale the weights to be between 0 and 255\n",
    "  wimg = 255.0 * (w[:, :, :, i].squeeze() - w_min) / (w_max - w_min)\n",
    "  plt.imshow(wimg.astype('uint8'))\n",
    "  plt.axis('off')\n",
    "  plt.title(classes[i])"
   ]
  },
  {
   "cell_type": "code",
   "execution_count": null,
   "metadata": {
    "collapsed": true
   },
   "outputs": [],
   "source": []
  }
 ],
 "metadata": {
  "kernelspec": {
   "display_name": "Python 2",
   "language": "python",
   "name": "python2"
  },
  "language_info": {
   "codemirror_mode": {
    "name": "ipython",
    "version": 2
   },
   "file_extension": ".py",
   "mimetype": "text/x-python",
   "name": "python",
   "nbconvert_exporter": "python",
   "pygments_lexer": "ipython2",
   "version": "2.7.11"
  }
 },
 "nbformat": 4,
 "nbformat_minor": 0
}
